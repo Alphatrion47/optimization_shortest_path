{
 "cells": [
  {
   "cell_type": "markdown",
   "metadata": {},
   "source": [
    "Dijikstra Algorithm"
   ]
  },
  {
   "cell_type": "code",
   "execution_count": 2,
   "metadata": {},
   "outputs": [],
   "source": [
    "import pandas as pd\n",
    "from zipfile import ZipFile\n",
    "import numpy as np\n",
    "import random\n",
    "import datetime as dt\n",
    "import matplotlib.pyplot as plt\n",
    "import networkx as nx\n",
    "import seaborn as sns\n",
    "from heapq import heapify, heappop, heappush"
   ]
  },
  {
   "cell_type": "code",
   "execution_count": null,
   "metadata": {},
   "outputs": [],
   "source": [
    "with ZipFile(\"Airline_dataset.csv.zip\",\"r\") as zip:\n",
    "    zip.extractall()"
   ]
  },
  {
   "cell_type": "code",
   "execution_count": null,
   "metadata": {},
   "outputs": [],
   "source": [
    "with ZipFile(\"airport_coords.zip\",\"r\") as z:\n",
    "    z.extractall()"
   ]
  },
  {
   "cell_type": "markdown",
   "metadata": {},
   "source": [
    "The dataset was acquired from https://www.transtats.bts.gov/DL SelectFields.asp?Table ID=236 and https://data.world/dot/airline-on-time-performance-statistics"
   ]
  },
  {
   "cell_type": "code",
   "execution_count": 326,
   "metadata": {},
   "outputs": [
    {
     "name": "stdout",
     "output_type": "stream",
     "text": [
      "<class 'pandas.core.frame.DataFrame'>\n",
      "Index: 1204825 entries, 0 to 1226367\n",
      "Data columns (total 13 columns):\n",
      " #   Column          Non-Null Count    Dtype  \n",
      "---  ------          --------------    -----  \n",
      " 0   FL_DATE         1204825 non-null  object \n",
      " 1   AIRLINE_ID      1204825 non-null  float64\n",
      " 2   TAIL_NUM        1204825 non-null  object \n",
      " 3   FLIGHT_NUM      1204825 non-null  float64\n",
      " 4   ORIGIN_SEQ_ID   1204825 non-null  float64\n",
      " 5   ORIGIN_AIRPORT  1204825 non-null  object \n",
      " 6   DEST_SEQ_ID     1204825 non-null  float64\n",
      " 7   DEST_AIRPORT    1204825 non-null  object \n",
      " 8   DEP_TIME        1204825 non-null  float64\n",
      " 9   DEP_DELAY       1204247 non-null  float64\n",
      " 10  ARR_TIME        1204825 non-null  float64\n",
      " 11  ARR_DELAY       1201443 non-null  float64\n",
      " 12  WEATHER_DELAY   1204825 non-null  float64\n",
      "dtypes: float64(9), object(4)\n",
      "memory usage: 128.7+ MB\n"
     ]
    }
   ],
   "source": [
    "data = pd.read_csv(\"Airline_dataset.csv\",index_col=0)\n",
    "df = data.copy()\n",
    "data.info()"
   ]
  },
  {
   "cell_type": "code",
   "execution_count": 327,
   "metadata": {},
   "outputs": [
    {
     "data": {
      "text/plain": [
       "(1204825, 13)"
      ]
     },
     "execution_count": 327,
     "metadata": {},
     "output_type": "execute_result"
    }
   ],
   "source": [
    "data.shape"
   ]
  },
  {
   "cell_type": "code",
   "execution_count": 328,
   "metadata": {},
   "outputs": [
    {
     "data": {
      "text/html": [
       "<div>\n",
       "<style scoped>\n",
       "    .dataframe tbody tr th:only-of-type {\n",
       "        vertical-align: middle;\n",
       "    }\n",
       "\n",
       "    .dataframe tbody tr th {\n",
       "        vertical-align: top;\n",
       "    }\n",
       "\n",
       "    .dataframe thead th {\n",
       "        text-align: right;\n",
       "    }\n",
       "</style>\n",
       "<table border=\"1\" class=\"dataframe\">\n",
       "  <thead>\n",
       "    <tr style=\"text-align: right;\">\n",
       "      <th></th>\n",
       "      <th>FL_DATE</th>\n",
       "      <th>AIRLINE_ID</th>\n",
       "      <th>TAIL_NUM</th>\n",
       "      <th>FLIGHT_NUM</th>\n",
       "      <th>ORIGIN_SEQ_ID</th>\n",
       "      <th>ORIGIN_AIRPORT</th>\n",
       "      <th>DEST_SEQ_ID</th>\n",
       "      <th>DEST_AIRPORT</th>\n",
       "      <th>DEP_TIME</th>\n",
       "      <th>DEP_DELAY</th>\n",
       "      <th>ARR_TIME</th>\n",
       "      <th>ARR_DELAY</th>\n",
       "      <th>WEATHER_DELAY</th>\n",
       "    </tr>\n",
       "  </thead>\n",
       "  <tbody>\n",
       "    <tr>\n",
       "      <th>0</th>\n",
       "      <td>8/1/18</td>\n",
       "      <td>19805.0</td>\n",
       "      <td>N956AN</td>\n",
       "      <td>1587.0</td>\n",
       "      <td>1247805.0</td>\n",
       "      <td>JFK</td>\n",
       "      <td>1410702.0</td>\n",
       "      <td>PHX</td>\n",
       "      <td>1649.0</td>\n",
       "      <td>9.0</td>\n",
       "      <td>2006.0</td>\n",
       "      <td>44.0</td>\n",
       "      <td>0.000000</td>\n",
       "    </tr>\n",
       "    <tr>\n",
       "      <th>1</th>\n",
       "      <td>8/1/18</td>\n",
       "      <td>19805.0</td>\n",
       "      <td>N973AN</td>\n",
       "      <td>1588.0</td>\n",
       "      <td>1410702.0</td>\n",
       "      <td>PHX</td>\n",
       "      <td>1161802.0</td>\n",
       "      <td>EWR</td>\n",
       "      <td>1541.0</td>\n",
       "      <td>29.0</td>\n",
       "      <td>2350.0</td>\n",
       "      <td>53.0</td>\n",
       "      <td>0.000000</td>\n",
       "    </tr>\n",
       "    <tr>\n",
       "      <th>2</th>\n",
       "      <td>8/1/18</td>\n",
       "      <td>19805.0</td>\n",
       "      <td>N9006</td>\n",
       "      <td>1590.0</td>\n",
       "      <td>1104205.0</td>\n",
       "      <td>CLE</td>\n",
       "      <td>1129806.0</td>\n",
       "      <td>DFW</td>\n",
       "      <td>741.0</td>\n",
       "      <td>-3.0</td>\n",
       "      <td>938.0</td>\n",
       "      <td>-2.0</td>\n",
       "      <td>4.030195</td>\n",
       "    </tr>\n",
       "    <tr>\n",
       "      <th>3</th>\n",
       "      <td>8/1/18</td>\n",
       "      <td>19805.0</td>\n",
       "      <td>N870NN</td>\n",
       "      <td>1591.0</td>\n",
       "      <td>1484306.0</td>\n",
       "      <td>SJU</td>\n",
       "      <td>1129806.0</td>\n",
       "      <td>DFW</td>\n",
       "      <td>944.0</td>\n",
       "      <td>44.0</td>\n",
       "      <td>1347.0</td>\n",
       "      <td>43.0</td>\n",
       "      <td>0.000000</td>\n",
       "    </tr>\n",
       "    <tr>\n",
       "      <th>4</th>\n",
       "      <td>8/1/18</td>\n",
       "      <td>19805.0</td>\n",
       "      <td>N9023N</td>\n",
       "      <td>1593.0</td>\n",
       "      <td>1042302.0</td>\n",
       "      <td>AUS</td>\n",
       "      <td>1330303.0</td>\n",
       "      <td>MIA</td>\n",
       "      <td>556.0</td>\n",
       "      <td>-4.0</td>\n",
       "      <td>951.0</td>\n",
       "      <td>-2.0</td>\n",
       "      <td>4.030195</td>\n",
       "    </tr>\n",
       "  </tbody>\n",
       "</table>\n",
       "</div>"
      ],
      "text/plain": [
       "  FL_DATE  AIRLINE_ID TAIL_NUM  FLIGHT_NUM  ORIGIN_SEQ_ID ORIGIN_AIRPORT  \\\n",
       "0  8/1/18     19805.0   N956AN      1587.0      1247805.0            JFK   \n",
       "1  8/1/18     19805.0   N973AN      1588.0      1410702.0            PHX   \n",
       "2  8/1/18     19805.0    N9006      1590.0      1104205.0            CLE   \n",
       "3  8/1/18     19805.0   N870NN      1591.0      1484306.0            SJU   \n",
       "4  8/1/18     19805.0   N9023N      1593.0      1042302.0            AUS   \n",
       "\n",
       "   DEST_SEQ_ID DEST_AIRPORT  DEP_TIME  DEP_DELAY  ARR_TIME  ARR_DELAY  \\\n",
       "0    1410702.0          PHX    1649.0        9.0    2006.0       44.0   \n",
       "1    1161802.0          EWR    1541.0       29.0    2350.0       53.0   \n",
       "2    1129806.0          DFW     741.0       -3.0     938.0       -2.0   \n",
       "3    1129806.0          DFW     944.0       44.0    1347.0       43.0   \n",
       "4    1330303.0          MIA     556.0       -4.0     951.0       -2.0   \n",
       "\n",
       "   WEATHER_DELAY  \n",
       "0       0.000000  \n",
       "1       0.000000  \n",
       "2       4.030195  \n",
       "3       0.000000  \n",
       "4       4.030195  "
      ]
     },
     "execution_count": 328,
     "metadata": {},
     "output_type": "execute_result"
    }
   ],
   "source": [
    "data.head()"
   ]
  },
  {
   "cell_type": "markdown",
   "metadata": {},
   "source": [
    "Typecasting all features for better data manipulation and model building"
   ]
  },
  {
   "cell_type": "code",
   "execution_count": 329,
   "metadata": {},
   "outputs": [
    {
     "data": {
      "text/html": [
       "<div>\n",
       "<style scoped>\n",
       "    .dataframe tbody tr th:only-of-type {\n",
       "        vertical-align: middle;\n",
       "    }\n",
       "\n",
       "    .dataframe tbody tr th {\n",
       "        vertical-align: top;\n",
       "    }\n",
       "\n",
       "    .dataframe thead th {\n",
       "        text-align: right;\n",
       "    }\n",
       "</style>\n",
       "<table border=\"1\" class=\"dataframe\">\n",
       "  <thead>\n",
       "    <tr style=\"text-align: right;\">\n",
       "      <th></th>\n",
       "      <th>FL_DATE</th>\n",
       "      <th>AIRLINE_ID</th>\n",
       "      <th>TAIL_NUM</th>\n",
       "      <th>FLIGHT_NUM</th>\n",
       "      <th>ORIGIN_SEQ_ID</th>\n",
       "      <th>ORIGIN_AIRPORT</th>\n",
       "      <th>DEST_SEQ_ID</th>\n",
       "      <th>DEST_AIRPORT</th>\n",
       "      <th>DEP_TIME</th>\n",
       "      <th>DEP_DELAY</th>\n",
       "      <th>ARR_TIME</th>\n",
       "      <th>ARR_DELAY</th>\n",
       "      <th>WEATHER_DELAY</th>\n",
       "    </tr>\n",
       "  </thead>\n",
       "  <tbody>\n",
       "    <tr>\n",
       "      <th>0</th>\n",
       "      <td>2018-08-01</td>\n",
       "      <td>19805.0</td>\n",
       "      <td>N956AN</td>\n",
       "      <td>1587.0</td>\n",
       "      <td>1247805.0</td>\n",
       "      <td>JFK</td>\n",
       "      <td>1410702.0</td>\n",
       "      <td>PHX</td>\n",
       "      <td>1649.0</td>\n",
       "      <td>9.0</td>\n",
       "      <td>2006.0</td>\n",
       "      <td>44.0</td>\n",
       "      <td>0.000000</td>\n",
       "    </tr>\n",
       "    <tr>\n",
       "      <th>1</th>\n",
       "      <td>2018-08-01</td>\n",
       "      <td>19805.0</td>\n",
       "      <td>N973AN</td>\n",
       "      <td>1588.0</td>\n",
       "      <td>1410702.0</td>\n",
       "      <td>PHX</td>\n",
       "      <td>1161802.0</td>\n",
       "      <td>EWR</td>\n",
       "      <td>1541.0</td>\n",
       "      <td>29.0</td>\n",
       "      <td>2350.0</td>\n",
       "      <td>53.0</td>\n",
       "      <td>0.000000</td>\n",
       "    </tr>\n",
       "    <tr>\n",
       "      <th>2</th>\n",
       "      <td>2018-08-01</td>\n",
       "      <td>19805.0</td>\n",
       "      <td>N9006</td>\n",
       "      <td>1590.0</td>\n",
       "      <td>1104205.0</td>\n",
       "      <td>CLE</td>\n",
       "      <td>1129806.0</td>\n",
       "      <td>DFW</td>\n",
       "      <td>741.0</td>\n",
       "      <td>-3.0</td>\n",
       "      <td>938.0</td>\n",
       "      <td>-2.0</td>\n",
       "      <td>4.030195</td>\n",
       "    </tr>\n",
       "    <tr>\n",
       "      <th>3</th>\n",
       "      <td>2018-08-01</td>\n",
       "      <td>19805.0</td>\n",
       "      <td>N870NN</td>\n",
       "      <td>1591.0</td>\n",
       "      <td>1484306.0</td>\n",
       "      <td>SJU</td>\n",
       "      <td>1129806.0</td>\n",
       "      <td>DFW</td>\n",
       "      <td>944.0</td>\n",
       "      <td>44.0</td>\n",
       "      <td>1347.0</td>\n",
       "      <td>43.0</td>\n",
       "      <td>0.000000</td>\n",
       "    </tr>\n",
       "    <tr>\n",
       "      <th>4</th>\n",
       "      <td>2018-08-01</td>\n",
       "      <td>19805.0</td>\n",
       "      <td>N9023N</td>\n",
       "      <td>1593.0</td>\n",
       "      <td>1042302.0</td>\n",
       "      <td>AUS</td>\n",
       "      <td>1330303.0</td>\n",
       "      <td>MIA</td>\n",
       "      <td>556.0</td>\n",
       "      <td>-4.0</td>\n",
       "      <td>951.0</td>\n",
       "      <td>-2.0</td>\n",
       "      <td>4.030195</td>\n",
       "    </tr>\n",
       "  </tbody>\n",
       "</table>\n",
       "</div>"
      ],
      "text/plain": [
       "     FL_DATE  AIRLINE_ID TAIL_NUM  FLIGHT_NUM  ORIGIN_SEQ_ID ORIGIN_AIRPORT  \\\n",
       "0 2018-08-01     19805.0   N956AN      1587.0      1247805.0            JFK   \n",
       "1 2018-08-01     19805.0   N973AN      1588.0      1410702.0            PHX   \n",
       "2 2018-08-01     19805.0    N9006      1590.0      1104205.0            CLE   \n",
       "3 2018-08-01     19805.0   N870NN      1591.0      1484306.0            SJU   \n",
       "4 2018-08-01     19805.0   N9023N      1593.0      1042302.0            AUS   \n",
       "\n",
       "   DEST_SEQ_ID DEST_AIRPORT  DEP_TIME  DEP_DELAY  ARR_TIME  ARR_DELAY  \\\n",
       "0    1410702.0          PHX    1649.0        9.0    2006.0       44.0   \n",
       "1    1161802.0          EWR    1541.0       29.0    2350.0       53.0   \n",
       "2    1129806.0          DFW     741.0       -3.0     938.0       -2.0   \n",
       "3    1129806.0          DFW     944.0       44.0    1347.0       43.0   \n",
       "4    1330303.0          MIA     556.0       -4.0     951.0       -2.0   \n",
       "\n",
       "   WEATHER_DELAY  \n",
       "0       0.000000  \n",
       "1       0.000000  \n",
       "2       4.030195  \n",
       "3       0.000000  \n",
       "4       4.030195  "
      ]
     },
     "execution_count": 329,
     "metadata": {},
     "output_type": "execute_result"
    }
   ],
   "source": [
    "data[\"FL_DATE\"] = pd.to_datetime(data[\"FL_DATE\"],format = \"%m/%d/%y\")\n",
    "data.head()"
   ]
  },
  {
   "cell_type": "code",
   "execution_count": 330,
   "metadata": {},
   "outputs": [],
   "source": [
    "#Utilizing only 1 month's data for the analysis\n",
    "\n",
    "data = data[data[\"FL_DATE\"].dt.date < dt.date(2019,1,1)]"
   ]
  },
  {
   "cell_type": "code",
   "execution_count": 331,
   "metadata": {},
   "outputs": [],
   "source": [
    "# Converting into favorable datatype\n",
    "data[\"DEP_TIME\"] = data[\"DEP_TIME\"].astype(int).astype(str)\n",
    "data[\"ARR_TIME\"] = data[\"ARR_TIME\"].astype(int).astype(str)"
   ]
  },
  {
   "cell_type": "code",
   "execution_count": 332,
   "metadata": {},
   "outputs": [],
   "source": [
    "# Time Feature Format in HHMM\n",
    "data[\"DEP_TIME\"] = pd.to_datetime(data[\"DEP_TIME\"].str.zfill(4),format = \"%H%M\",errors = \"coerce\")\n",
    "data[\"ARR_TIME\"] = pd.to_datetime(data[\"ARR_TIME\"].str.zfill(4),format = \"%H%M\",errors = \"coerce\")"
   ]
  },
  {
   "cell_type": "code",
   "execution_count": 333,
   "metadata": {},
   "outputs": [
    {
     "data": {
      "text/plain": [
       "np.int64(81)"
      ]
     },
     "execution_count": 333,
     "metadata": {},
     "output_type": "execute_result"
    }
   ],
   "source": [
    "data[\"DEP_TIME\"].isna().sum()"
   ]
  },
  {
   "cell_type": "markdown",
   "metadata": {},
   "source": [
    "Treating Null values"
   ]
  },
  {
   "cell_type": "markdown",
   "metadata": {},
   "source": [
    "Confirming if the null values in our columns represent midnight"
   ]
  },
  {
   "cell_type": "code",
   "execution_count": 334,
   "metadata": {},
   "outputs": [
    {
     "name": "stdout",
     "output_type": "stream",
     "text": [
      "Null values input for departure time field => [2400.]\n",
      "Null values input for departure time field => [2400.]\n"
     ]
    }
   ],
   "source": [
    "null_row = data[data[\"DEP_TIME\"].isnull()].index\n",
    "print(\"Null values input for departure time field =>\",df.loc[null_row, \"DEP_TIME\"].unique())\n",
    "null_row = data[data[\"ARR_TIME\"].isnull()].index\n",
    "print(\"Null values input for departure time field =>\",df.loc[null_row, \"ARR_TIME\"].unique())\n"
   ]
  },
  {
   "cell_type": "code",
   "execution_count": 335,
   "metadata": {},
   "outputs": [
    {
     "data": {
      "text/plain": [
       "FL_DATE           datetime64[ns]\n",
       "AIRLINE_ID               float64\n",
       "TAIL_NUM                  object\n",
       "FLIGHT_NUM               float64\n",
       "ORIGIN_SEQ_ID            float64\n",
       "ORIGIN_AIRPORT            object\n",
       "DEST_SEQ_ID              float64\n",
       "DEST_AIRPORT              object\n",
       "DEP_TIME          datetime64[ns]\n",
       "DEP_DELAY                float64\n",
       "ARR_TIME          datetime64[ns]\n",
       "ARR_DELAY                float64\n",
       "WEATHER_DELAY            float64\n",
       "dtype: object"
      ]
     },
     "execution_count": 335,
     "metadata": {},
     "output_type": "execute_result"
    }
   ],
   "source": [
    "data.dtypes"
   ]
  },
  {
   "cell_type": "code",
   "execution_count": 336,
   "metadata": {},
   "outputs": [
    {
     "data": {
      "text/html": [
       "<div>\n",
       "<style scoped>\n",
       "    .dataframe tbody tr th:only-of-type {\n",
       "        vertical-align: middle;\n",
       "    }\n",
       "\n",
       "    .dataframe tbody tr th {\n",
       "        vertical-align: top;\n",
       "    }\n",
       "\n",
       "    .dataframe thead th {\n",
       "        text-align: right;\n",
       "    }\n",
       "</style>\n",
       "<table border=\"1\" class=\"dataframe\">\n",
       "  <thead>\n",
       "    <tr style=\"text-align: right;\">\n",
       "      <th></th>\n",
       "      <th>FL_DATE</th>\n",
       "      <th>AIRLINE_ID</th>\n",
       "      <th>TAIL_NUM</th>\n",
       "      <th>FLIGHT_NUM</th>\n",
       "      <th>ORIGIN_SEQ_ID</th>\n",
       "      <th>ORIGIN_AIRPORT</th>\n",
       "      <th>DEST_SEQ_ID</th>\n",
       "      <th>DEST_AIRPORT</th>\n",
       "      <th>DEP_TIME</th>\n",
       "      <th>DEP_DELAY</th>\n",
       "      <th>ARR_TIME</th>\n",
       "      <th>ARR_DELAY</th>\n",
       "      <th>WEATHER_DELAY</th>\n",
       "    </tr>\n",
       "  </thead>\n",
       "  <tbody>\n",
       "    <tr>\n",
       "      <th>0</th>\n",
       "      <td>2018-08-01</td>\n",
       "      <td>19805.0</td>\n",
       "      <td>N956AN</td>\n",
       "      <td>1587.0</td>\n",
       "      <td>1247805.0</td>\n",
       "      <td>JFK</td>\n",
       "      <td>1410702.0</td>\n",
       "      <td>PHX</td>\n",
       "      <td>16:49:00</td>\n",
       "      <td>9.0</td>\n",
       "      <td>20:06:00</td>\n",
       "      <td>44.0</td>\n",
       "      <td>0.000000</td>\n",
       "    </tr>\n",
       "    <tr>\n",
       "      <th>1</th>\n",
       "      <td>2018-08-01</td>\n",
       "      <td>19805.0</td>\n",
       "      <td>N973AN</td>\n",
       "      <td>1588.0</td>\n",
       "      <td>1410702.0</td>\n",
       "      <td>PHX</td>\n",
       "      <td>1161802.0</td>\n",
       "      <td>EWR</td>\n",
       "      <td>15:41:00</td>\n",
       "      <td>29.0</td>\n",
       "      <td>23:50:00</td>\n",
       "      <td>53.0</td>\n",
       "      <td>0.000000</td>\n",
       "    </tr>\n",
       "    <tr>\n",
       "      <th>2</th>\n",
       "      <td>2018-08-01</td>\n",
       "      <td>19805.0</td>\n",
       "      <td>N9006</td>\n",
       "      <td>1590.0</td>\n",
       "      <td>1104205.0</td>\n",
       "      <td>CLE</td>\n",
       "      <td>1129806.0</td>\n",
       "      <td>DFW</td>\n",
       "      <td>07:41:00</td>\n",
       "      <td>-3.0</td>\n",
       "      <td>09:38:00</td>\n",
       "      <td>-2.0</td>\n",
       "      <td>4.030195</td>\n",
       "    </tr>\n",
       "    <tr>\n",
       "      <th>3</th>\n",
       "      <td>2018-08-01</td>\n",
       "      <td>19805.0</td>\n",
       "      <td>N870NN</td>\n",
       "      <td>1591.0</td>\n",
       "      <td>1484306.0</td>\n",
       "      <td>SJU</td>\n",
       "      <td>1129806.0</td>\n",
       "      <td>DFW</td>\n",
       "      <td>09:44:00</td>\n",
       "      <td>44.0</td>\n",
       "      <td>13:47:00</td>\n",
       "      <td>43.0</td>\n",
       "      <td>0.000000</td>\n",
       "    </tr>\n",
       "    <tr>\n",
       "      <th>4</th>\n",
       "      <td>2018-08-01</td>\n",
       "      <td>19805.0</td>\n",
       "      <td>N9023N</td>\n",
       "      <td>1593.0</td>\n",
       "      <td>1042302.0</td>\n",
       "      <td>AUS</td>\n",
       "      <td>1330303.0</td>\n",
       "      <td>MIA</td>\n",
       "      <td>05:56:00</td>\n",
       "      <td>-4.0</td>\n",
       "      <td>09:51:00</td>\n",
       "      <td>-2.0</td>\n",
       "      <td>4.030195</td>\n",
       "    </tr>\n",
       "  </tbody>\n",
       "</table>\n",
       "</div>"
      ],
      "text/plain": [
       "     FL_DATE  AIRLINE_ID TAIL_NUM  FLIGHT_NUM  ORIGIN_SEQ_ID ORIGIN_AIRPORT  \\\n",
       "0 2018-08-01     19805.0   N956AN      1587.0      1247805.0            JFK   \n",
       "1 2018-08-01     19805.0   N973AN      1588.0      1410702.0            PHX   \n",
       "2 2018-08-01     19805.0    N9006      1590.0      1104205.0            CLE   \n",
       "3 2018-08-01     19805.0   N870NN      1591.0      1484306.0            SJU   \n",
       "4 2018-08-01     19805.0   N9023N      1593.0      1042302.0            AUS   \n",
       "\n",
       "   DEST_SEQ_ID DEST_AIRPORT  DEP_TIME  DEP_DELAY  ARR_TIME  ARR_DELAY  \\\n",
       "0    1410702.0          PHX  16:49:00        9.0  20:06:00       44.0   \n",
       "1    1161802.0          EWR  15:41:00       29.0  23:50:00       53.0   \n",
       "2    1129806.0          DFW  07:41:00       -3.0  09:38:00       -2.0   \n",
       "3    1129806.0          DFW  09:44:00       44.0  13:47:00       43.0   \n",
       "4    1330303.0          MIA  05:56:00       -4.0  09:51:00       -2.0   \n",
       "\n",
       "   WEATHER_DELAY  \n",
       "0       0.000000  \n",
       "1       0.000000  \n",
       "2       4.030195  \n",
       "3       0.000000  \n",
       "4       4.030195  "
      ]
     },
     "execution_count": 336,
     "metadata": {},
     "output_type": "execute_result"
    }
   ],
   "source": [
    "data[\"DEP_TIME\"]=data[\"DEP_TIME\"].fillna(pd.to_datetime(\"0000\",format = \"%H%M\"))\n",
    "data[\"ARR_TIME\"] =data[\"ARR_TIME\"].fillna(pd.to_datetime(\"0000\",format = \"%H%M\"))\n",
    "#To prevent all time from being represented as from year 1900 which is the default, we convert it too dt.time for readability\n",
    "data[\"DEP_TIME\"] = data[\"DEP_TIME\"].dt.time\n",
    "data[\"ARR_TIME\"] = data[\"ARR_TIME\"].dt.time\n",
    "data.head()"
   ]
  },
  {
   "cell_type": "code",
   "execution_count": 337,
   "metadata": {},
   "outputs": [],
   "source": [
    "# Time Features in minutes\n",
    "data[\"DEP_DELAY\"] = data[\"DEP_DELAY\"].fillna(0)\n",
    "data[\"ARR_DELAY\"] = data[\"ARR_DELAY\"].fillna(0)\n",
    "data[\"WEATHER_DELAY\"] = data[\"WEATHER_DELAY\"].fillna(0) \n",
    "\n",
    "data[\"DEP_DELAY\"]  = data[\"DEP_DELAY\"].astype(int)\n",
    "data[\"ARR_DELAY\"]  = data[\"ARR_DELAY\"].astype(int)\n",
    "data[\"WEATHER_DELAY\"]  = data[\"WEATHER_DELAY\"].astype(int)"
   ]
  },
  {
   "cell_type": "code",
   "execution_count": 338,
   "metadata": {},
   "outputs": [],
   "source": [
    "data[\"DEP_DELAY\"]  =pd.to_timedelta(data[\"DEP_DELAY\"],unit = \"m\")\n",
    "data[\"ARR_DELAY\"] = pd.to_timedelta(data[\"ARR_DELAY\"],unit = \"m\")\n",
    "data[\"WEATHER_DELAY\"] = pd.to_timedelta(data[\"WEATHER_DELAY\"],unit = \"m\")"
   ]
  },
  {
   "cell_type": "code",
   "execution_count": 339,
   "metadata": {},
   "outputs": [],
   "source": [
    "data[\"AIRLINE_ID\"] = data[\"AIRLINE_ID\"].astype(int)\n",
    "data[\"FLIGHT_NUM\"] = data[\"FLIGHT_NUM\"].astype(int)"
   ]
  },
  {
   "cell_type": "code",
   "execution_count": 340,
   "metadata": {},
   "outputs": [],
   "source": [
    "data.drop(columns = [\"DEST_SEQ_ID\",\"ORIGIN_SEQ_ID\"], inplace =True)"
   ]
  },
  {
   "cell_type": "markdown",
   "metadata": {},
   "source": [
    "Segmenting using Arrival time to optimize time for total travel time optimization. \n",
    "\n",
    "Each day can be segmented into 6 parts:\n",
    "\n",
    "Early morning (4:00 - 7:59)\n",
    "\n",
    "Morning (8:00-11:59)\n",
    "\n",
    "Afternoon (12:00 - 15:59)\n",
    "\n",
    "Evening (16:00 - 19:59)\n",
    "\n",
    "Night (20:00 - 23:59)\n",
    "\n",
    "Late Night (00:00 - 3:59)"
   ]
  },
  {
   "cell_type": "code",
   "execution_count": 341,
   "metadata": {},
   "outputs": [],
   "source": [
    "time_buckets = pd.date_range(start=\"00:00\",end = \"23:59\", freq = \"4h\").time\n",
    "label = (\"Late Night\",\"Early_morning\",\"Morning\",\"Afternoon\",\"Evening\",\"Night\")\n",
    "\n",
    "def segmentation(arrival_time):\n",
    "    for i in range(len(time_buckets)-1):\n",
    "        if time_buckets[i] <= arrival_time < time_buckets[i+1]:\n",
    "            return label[i]\n",
    "    return label[-1]"
   ]
  },
  {
   "cell_type": "code",
   "execution_count": 342,
   "metadata": {},
   "outputs": [],
   "source": [
    "data[\"day_segment\"] = data[\"ARR_TIME\"].apply(segmentation)"
   ]
  },
  {
   "cell_type": "code",
   "execution_count": 343,
   "metadata": {},
   "outputs": [
    {
     "data": {
      "text/html": [
       "<div>\n",
       "<style scoped>\n",
       "    .dataframe tbody tr th:only-of-type {\n",
       "        vertical-align: middle;\n",
       "    }\n",
       "\n",
       "    .dataframe tbody tr th {\n",
       "        vertical-align: top;\n",
       "    }\n",
       "\n",
       "    .dataframe thead th {\n",
       "        text-align: right;\n",
       "    }\n",
       "</style>\n",
       "<table border=\"1\" class=\"dataframe\">\n",
       "  <thead>\n",
       "    <tr style=\"text-align: right;\">\n",
       "      <th></th>\n",
       "      <th>FL_DATE</th>\n",
       "      <th>AIRLINE_ID</th>\n",
       "      <th>TAIL_NUM</th>\n",
       "      <th>FLIGHT_NUM</th>\n",
       "      <th>ORIGIN_AIRPORT</th>\n",
       "      <th>DEST_AIRPORT</th>\n",
       "      <th>DEP_TIME</th>\n",
       "      <th>DEP_DELAY</th>\n",
       "      <th>ARR_TIME</th>\n",
       "      <th>ARR_DELAY</th>\n",
       "      <th>WEATHER_DELAY</th>\n",
       "      <th>day_segment</th>\n",
       "    </tr>\n",
       "  </thead>\n",
       "  <tbody>\n",
       "    <tr>\n",
       "      <th>0</th>\n",
       "      <td>2018-08-01</td>\n",
       "      <td>19805</td>\n",
       "      <td>N956AN</td>\n",
       "      <td>1587</td>\n",
       "      <td>JFK</td>\n",
       "      <td>PHX</td>\n",
       "      <td>16:49:00</td>\n",
       "      <td>0 days 00:09:00</td>\n",
       "      <td>20:06:00</td>\n",
       "      <td>0 days 00:44:00</td>\n",
       "      <td>0 days 00:00:00</td>\n",
       "      <td>Night</td>\n",
       "    </tr>\n",
       "    <tr>\n",
       "      <th>1</th>\n",
       "      <td>2018-08-01</td>\n",
       "      <td>19805</td>\n",
       "      <td>N973AN</td>\n",
       "      <td>1588</td>\n",
       "      <td>PHX</td>\n",
       "      <td>EWR</td>\n",
       "      <td>15:41:00</td>\n",
       "      <td>0 days 00:29:00</td>\n",
       "      <td>23:50:00</td>\n",
       "      <td>0 days 00:53:00</td>\n",
       "      <td>0 days 00:00:00</td>\n",
       "      <td>Night</td>\n",
       "    </tr>\n",
       "    <tr>\n",
       "      <th>2</th>\n",
       "      <td>2018-08-01</td>\n",
       "      <td>19805</td>\n",
       "      <td>N9006</td>\n",
       "      <td>1590</td>\n",
       "      <td>CLE</td>\n",
       "      <td>DFW</td>\n",
       "      <td>07:41:00</td>\n",
       "      <td>-1 days +23:57:00</td>\n",
       "      <td>09:38:00</td>\n",
       "      <td>-1 days +23:58:00</td>\n",
       "      <td>0 days 00:04:00</td>\n",
       "      <td>Morning</td>\n",
       "    </tr>\n",
       "    <tr>\n",
       "      <th>3</th>\n",
       "      <td>2018-08-01</td>\n",
       "      <td>19805</td>\n",
       "      <td>N870NN</td>\n",
       "      <td>1591</td>\n",
       "      <td>SJU</td>\n",
       "      <td>DFW</td>\n",
       "      <td>09:44:00</td>\n",
       "      <td>0 days 00:44:00</td>\n",
       "      <td>13:47:00</td>\n",
       "      <td>0 days 00:43:00</td>\n",
       "      <td>0 days 00:00:00</td>\n",
       "      <td>Afternoon</td>\n",
       "    </tr>\n",
       "    <tr>\n",
       "      <th>4</th>\n",
       "      <td>2018-08-01</td>\n",
       "      <td>19805</td>\n",
       "      <td>N9023N</td>\n",
       "      <td>1593</td>\n",
       "      <td>AUS</td>\n",
       "      <td>MIA</td>\n",
       "      <td>05:56:00</td>\n",
       "      <td>-1 days +23:56:00</td>\n",
       "      <td>09:51:00</td>\n",
       "      <td>-1 days +23:58:00</td>\n",
       "      <td>0 days 00:04:00</td>\n",
       "      <td>Morning</td>\n",
       "    </tr>\n",
       "  </tbody>\n",
       "</table>\n",
       "</div>"
      ],
      "text/plain": [
       "     FL_DATE  AIRLINE_ID TAIL_NUM  FLIGHT_NUM ORIGIN_AIRPORT DEST_AIRPORT  \\\n",
       "0 2018-08-01       19805   N956AN        1587            JFK          PHX   \n",
       "1 2018-08-01       19805   N973AN        1588            PHX          EWR   \n",
       "2 2018-08-01       19805    N9006        1590            CLE          DFW   \n",
       "3 2018-08-01       19805   N870NN        1591            SJU          DFW   \n",
       "4 2018-08-01       19805   N9023N        1593            AUS          MIA   \n",
       "\n",
       "   DEP_TIME         DEP_DELAY  ARR_TIME         ARR_DELAY   WEATHER_DELAY  \\\n",
       "0  16:49:00   0 days 00:09:00  20:06:00   0 days 00:44:00 0 days 00:00:00   \n",
       "1  15:41:00   0 days 00:29:00  23:50:00   0 days 00:53:00 0 days 00:00:00   \n",
       "2  07:41:00 -1 days +23:57:00  09:38:00 -1 days +23:58:00 0 days 00:04:00   \n",
       "3  09:44:00   0 days 00:44:00  13:47:00   0 days 00:43:00 0 days 00:00:00   \n",
       "4  05:56:00 -1 days +23:56:00  09:51:00 -1 days +23:58:00 0 days 00:04:00   \n",
       "\n",
       "  day_segment  \n",
       "0       Night  \n",
       "1       Night  \n",
       "2     Morning  \n",
       "3   Afternoon  \n",
       "4     Morning  "
      ]
     },
     "execution_count": 343,
     "metadata": {},
     "output_type": "execute_result"
    }
   ],
   "source": [
    "data.head()"
   ]
  },
  {
   "cell_type": "markdown",
   "metadata": {},
   "source": [
    "Computing airtime (HH:MM) which can be used as weights of our edges in network graph."
   ]
  },
  {
   "cell_type": "code",
   "execution_count": 344,
   "metadata": {},
   "outputs": [],
   "source": [
    "def compute_airtime(flight_date, dep_time, dep_delay, arr_time, arr_delay, weather_delay):\n",
    "    # Departure time is adjusted to account for the delay\n",
    "    adj_dep = dt.datetime.combine(flight_date, dep_time) + dep_delay\n",
    "    # Arrival time is adjusted to accoutn for the weather and arrival delay\n",
    "    adj_arr = dt.datetime.combine(flight_date,arr_time) + arr_delay + weather_delay\n",
    "\n",
    "    #Midnight Crossing cases\n",
    "    if adj_arr < adj_dep:\n",
    "        org_adj_arr = adj_arr\n",
    "        adj_arr += dt.timedelta(days =1)\n",
    "    \n",
    "    diff = adj_arr - adj_dep\n",
    "    \n",
    "    # Catching exceptions \n",
    "    if diff < dt.timedelta(seconds = 0):\n",
    "        print(\"org adj_Arrival =\",org_adj_arr)\n",
    "        print(\"corrected adj_Arrival =\",adj_arr)\n",
    "        print(\"Departre time =\", adj_dep)\n",
    "        print(\"Negative airtime\",flight_date,\"#\",dep_time,\"#\",arr_time)\n",
    "        return None\n",
    "\n",
    "    min,sec = divmod(diff.total_seconds(),60)\n",
    "    # hr,sec = divmod(diff.total_seconds(),3600)\n",
    "    # min = sec//60\n",
    "    return int(min)\n"
   ]
  },
  {
   "cell_type": "code",
   "execution_count": 345,
   "metadata": {},
   "outputs": [
    {
     "name": "stdout",
     "output_type": "stream",
     "text": [
      "org adj_Arrival = 2018-08-03 00:45:00\n",
      "corrected adj_Arrival = 2018-08-04 00:45:00\n",
      "Departre time = 2018-08-04 00:49:00\n",
      "Negative airtime 2018-08-03 00:00:00 # 21:19:00 # 00:41:00\n",
      "org adj_Arrival = 2018-08-16 02:33:00\n",
      "corrected adj_Arrival = 2018-08-17 02:33:00\n",
      "Departre time = 2018-08-17 03:19:00\n",
      "Negative airtime 2018-08-16 00:00:00 # 22:41:00 # 02:29:00\n",
      "org adj_Arrival = 2018-08-17 02:59:00\n",
      "corrected adj_Arrival = 2018-08-18 02:59:00\n",
      "Departre time = 2018-08-18 05:04:00\n",
      "Negative airtime 2018-08-17 00:00:00 # 22:42:00 # 02:55:00\n",
      "org adj_Arrival = 2018-08-20 00:22:00\n",
      "corrected adj_Arrival = 2018-08-21 00:22:00\n",
      "Departre time = 2018-08-21 01:33:00\n",
      "Negative airtime 2018-08-20 00:00:00 # 20:22:00 # 00:18:00\n"
     ]
    }
   ],
   "source": [
    "data[\"airtime\"] = data.apply(lambda row : compute_airtime(row[\"FL_DATE\"],row[\"DEP_TIME\"], row[\"DEP_DELAY\"], row[\"ARR_TIME\"], \\\n",
    "                                                        row[\"ARR_DELAY\"], row[\"WEATHER_DELAY\"]), axis =1)"
   ]
  },
  {
   "cell_type": "markdown",
   "metadata": {},
   "source": [
    "The output of the debugging shows that there are 9 cases of data error where the arrival of flight is a day earlier than the departure. These cases are isolated and removed from the dataset. "
   ]
  },
  {
   "cell_type": "code",
   "execution_count": 346,
   "metadata": {},
   "outputs": [
    {
     "name": "stdout",
     "output_type": "stream",
     "text": [
      "The erroneous records are => 4\n"
     ]
    },
    {
     "data": {
      "text/plain": [
       "(686880, 13)"
      ]
     },
     "execution_count": 346,
     "metadata": {},
     "output_type": "execute_result"
    }
   ],
   "source": [
    "print(\"The erroneous records are =>\", data.isnull().sum().sum())\n",
    "data.dropna(inplace = True,ignore_index=True)\n",
    "data.shape"
   ]
  },
  {
   "cell_type": "code",
   "execution_count": 347,
   "metadata": {},
   "outputs": [
    {
     "data": {
      "text/plain": [
       "FL_DATE            datetime64[ns]\n",
       "AIRLINE_ID                  int64\n",
       "TAIL_NUM                   object\n",
       "FLIGHT_NUM                  int64\n",
       "ORIGIN_AIRPORT             object\n",
       "DEST_AIRPORT               object\n",
       "DEP_TIME                   object\n",
       "DEP_DELAY         timedelta64[ns]\n",
       "ARR_TIME                   object\n",
       "ARR_DELAY         timedelta64[ns]\n",
       "WEATHER_DELAY     timedelta64[ns]\n",
       "day_segment                object\n",
       "airtime                     int64\n",
       "dtype: object"
      ]
     },
     "execution_count": 347,
     "metadata": {},
     "output_type": "execute_result"
    }
   ],
   "source": [
    "data[\"airtime\"] = data[\"airtime\"].astype(int)\n",
    "data.dtypes"
   ]
  },
  {
   "cell_type": "markdown",
   "metadata": {},
   "source": [
    "### Accounting for departure and arrival delays causes null value in airtime. This might be due to erroneous delay entries.\n",
    "### Shortest domestic commercial route for US airlines is San Francisco to Sata rosa route with 15min air time operated by Alaska airlines. So discarding records with less than the minimum"
   ]
  },
  {
   "cell_type": "code",
   "execution_count": 371,
   "metadata": {},
   "outputs": [],
   "source": [
    "bad_delay_rows = data[data[\"airtime\"] < 15].index\n",
    "data.drop(index = bad_delay_rows,inplace = True)"
   ]
  },
  {
   "cell_type": "code",
   "execution_count": 375,
   "metadata": {},
   "outputs": [
    {
     "data": {
      "text/plain": [
       "(680456, 13)"
      ]
     },
     "execution_count": 375,
     "metadata": {},
     "output_type": "execute_result"
    }
   ],
   "source": [
    "data.shape"
   ]
  },
  {
   "cell_type": "code",
   "execution_count": 378,
   "metadata": {},
   "outputs": [],
   "source": [
    "data.to_pickle(\"cleaned.pkl\")"
   ]
  },
  {
   "cell_type": "code",
   "execution_count": 3,
   "metadata": {},
   "outputs": [],
   "source": [
    "data = pd.read_pickle(\"cleaned.pkl\")"
   ]
  },
  {
   "cell_type": "code",
   "execution_count": 3,
   "metadata": {},
   "outputs": [
    {
     "data": {
      "text/plain": [
       "(680456, 13)"
      ]
     },
     "execution_count": 3,
     "metadata": {},
     "output_type": "execute_result"
    }
   ],
   "source": [
    "data.shape"
   ]
  },
  {
   "cell_type": "code",
   "execution_count": 5,
   "metadata": {},
   "outputs": [
    {
     "data": {
      "text/html": [
       "<div>\n",
       "<style scoped>\n",
       "    .dataframe tbody tr th:only-of-type {\n",
       "        vertical-align: middle;\n",
       "    }\n",
       "\n",
       "    .dataframe tbody tr th {\n",
       "        vertical-align: top;\n",
       "    }\n",
       "\n",
       "    .dataframe thead th {\n",
       "        text-align: right;\n",
       "    }\n",
       "</style>\n",
       "<table border=\"1\" class=\"dataframe\">\n",
       "  <thead>\n",
       "    <tr style=\"text-align: right;\">\n",
       "      <th></th>\n",
       "      <th>FL_DATE</th>\n",
       "      <th>AIRLINE_ID</th>\n",
       "      <th>TAIL_NUM</th>\n",
       "      <th>FLIGHT_NUM</th>\n",
       "      <th>ORIGIN_AIRPORT</th>\n",
       "      <th>DEST_AIRPORT</th>\n",
       "      <th>DEP_TIME</th>\n",
       "      <th>DEP_DELAY</th>\n",
       "      <th>ARR_TIME</th>\n",
       "      <th>ARR_DELAY</th>\n",
       "      <th>WEATHER_DELAY</th>\n",
       "      <th>day_segment</th>\n",
       "      <th>airtime</th>\n",
       "    </tr>\n",
       "  </thead>\n",
       "  <tbody>\n",
       "  </tbody>\n",
       "</table>\n",
       "</div>"
      ],
      "text/plain": [
       "Empty DataFrame\n",
       "Columns: [FL_DATE, AIRLINE_ID, TAIL_NUM, FLIGHT_NUM, ORIGIN_AIRPORT, DEST_AIRPORT, DEP_TIME, DEP_DELAY, ARR_TIME, ARR_DELAY, WEATHER_DELAY, day_segment, airtime]\n",
       "Index: []"
      ]
     },
     "execution_count": 5,
     "metadata": {},
     "output_type": "execute_result"
    }
   ],
   "source": [
    "data[(data[\"ORIGIN_AIRPORT\"]==\"ATL\") & (data[\"DEST_AIRPORT\"]==\"YAK\")]"
   ]
  },
  {
   "cell_type": "code",
   "execution_count": 4,
   "metadata": {},
   "outputs": [
    {
     "data": {
      "text/html": [
       "<div>\n",
       "<style scoped>\n",
       "    .dataframe tbody tr th:only-of-type {\n",
       "        vertical-align: middle;\n",
       "    }\n",
       "\n",
       "    .dataframe tbody tr th {\n",
       "        vertical-align: top;\n",
       "    }\n",
       "\n",
       "    .dataframe thead th {\n",
       "        text-align: right;\n",
       "    }\n",
       "</style>\n",
       "<table border=\"1\" class=\"dataframe\">\n",
       "  <thead>\n",
       "    <tr style=\"text-align: right;\">\n",
       "      <th></th>\n",
       "      <th>FL_DATE</th>\n",
       "      <th>AIRLINE_ID</th>\n",
       "      <th>TAIL_NUM</th>\n",
       "      <th>FLIGHT_NUM</th>\n",
       "      <th>ORIGIN_AIRPORT</th>\n",
       "      <th>DEST_AIRPORT</th>\n",
       "      <th>DEP_TIME</th>\n",
       "      <th>DEP_DELAY</th>\n",
       "      <th>ARR_TIME</th>\n",
       "      <th>ARR_DELAY</th>\n",
       "      <th>WEATHER_DELAY</th>\n",
       "      <th>day_segment</th>\n",
       "      <th>airtime</th>\n",
       "    </tr>\n",
       "  </thead>\n",
       "  <tbody>\n",
       "    <tr>\n",
       "      <th>0</th>\n",
       "      <td>2018-08-01</td>\n",
       "      <td>19805</td>\n",
       "      <td>N956AN</td>\n",
       "      <td>1587</td>\n",
       "      <td>JFK</td>\n",
       "      <td>PHX</td>\n",
       "      <td>16:49:00</td>\n",
       "      <td>0 days 00:09:00</td>\n",
       "      <td>20:06:00</td>\n",
       "      <td>0 days 00:44:00</td>\n",
       "      <td>0 days 00:00:00</td>\n",
       "      <td>Night</td>\n",
       "      <td>232</td>\n",
       "    </tr>\n",
       "    <tr>\n",
       "      <th>1</th>\n",
       "      <td>2018-08-01</td>\n",
       "      <td>19805</td>\n",
       "      <td>N973AN</td>\n",
       "      <td>1588</td>\n",
       "      <td>PHX</td>\n",
       "      <td>EWR</td>\n",
       "      <td>15:41:00</td>\n",
       "      <td>0 days 00:29:00</td>\n",
       "      <td>23:50:00</td>\n",
       "      <td>0 days 00:53:00</td>\n",
       "      <td>0 days 00:00:00</td>\n",
       "      <td>Night</td>\n",
       "      <td>513</td>\n",
       "    </tr>\n",
       "    <tr>\n",
       "      <th>2</th>\n",
       "      <td>2018-08-01</td>\n",
       "      <td>19805</td>\n",
       "      <td>N9006</td>\n",
       "      <td>1590</td>\n",
       "      <td>CLE</td>\n",
       "      <td>DFW</td>\n",
       "      <td>07:41:00</td>\n",
       "      <td>-1 days +23:57:00</td>\n",
       "      <td>09:38:00</td>\n",
       "      <td>-1 days +23:58:00</td>\n",
       "      <td>0 days 00:04:00</td>\n",
       "      <td>Morning</td>\n",
       "      <td>122</td>\n",
       "    </tr>\n",
       "    <tr>\n",
       "      <th>3</th>\n",
       "      <td>2018-08-01</td>\n",
       "      <td>19805</td>\n",
       "      <td>N870NN</td>\n",
       "      <td>1591</td>\n",
       "      <td>SJU</td>\n",
       "      <td>DFW</td>\n",
       "      <td>09:44:00</td>\n",
       "      <td>0 days 00:44:00</td>\n",
       "      <td>13:47:00</td>\n",
       "      <td>0 days 00:43:00</td>\n",
       "      <td>0 days 00:00:00</td>\n",
       "      <td>Afternoon</td>\n",
       "      <td>242</td>\n",
       "    </tr>\n",
       "    <tr>\n",
       "      <th>4</th>\n",
       "      <td>2018-08-01</td>\n",
       "      <td>19805</td>\n",
       "      <td>N9023N</td>\n",
       "      <td>1593</td>\n",
       "      <td>AUS</td>\n",
       "      <td>MIA</td>\n",
       "      <td>05:56:00</td>\n",
       "      <td>-1 days +23:56:00</td>\n",
       "      <td>09:51:00</td>\n",
       "      <td>-1 days +23:58:00</td>\n",
       "      <td>0 days 00:04:00</td>\n",
       "      <td>Morning</td>\n",
       "      <td>241</td>\n",
       "    </tr>\n",
       "  </tbody>\n",
       "</table>\n",
       "</div>"
      ],
      "text/plain": [
       "     FL_DATE  AIRLINE_ID TAIL_NUM  FLIGHT_NUM ORIGIN_AIRPORT DEST_AIRPORT  \\\n",
       "0 2018-08-01       19805   N956AN        1587            JFK          PHX   \n",
       "1 2018-08-01       19805   N973AN        1588            PHX          EWR   \n",
       "2 2018-08-01       19805    N9006        1590            CLE          DFW   \n",
       "3 2018-08-01       19805   N870NN        1591            SJU          DFW   \n",
       "4 2018-08-01       19805   N9023N        1593            AUS          MIA   \n",
       "\n",
       "   DEP_TIME         DEP_DELAY  ARR_TIME         ARR_DELAY   WEATHER_DELAY  \\\n",
       "0  16:49:00   0 days 00:09:00  20:06:00   0 days 00:44:00 0 days 00:00:00   \n",
       "1  15:41:00   0 days 00:29:00  23:50:00   0 days 00:53:00 0 days 00:00:00   \n",
       "2  07:41:00 -1 days +23:57:00  09:38:00 -1 days +23:58:00 0 days 00:04:00   \n",
       "3  09:44:00   0 days 00:44:00  13:47:00   0 days 00:43:00 0 days 00:00:00   \n",
       "4  05:56:00 -1 days +23:56:00  09:51:00 -1 days +23:58:00 0 days 00:04:00   \n",
       "\n",
       "  day_segment  airtime  \n",
       "0       Night      232  \n",
       "1       Night      513  \n",
       "2     Morning      122  \n",
       "3   Afternoon      242  \n",
       "4     Morning      241  "
      ]
     },
     "execution_count": 4,
     "metadata": {},
     "output_type": "execute_result"
    }
   ],
   "source": [
    "data.head()"
   ]
  },
  {
   "cell_type": "code",
   "execution_count": 4,
   "metadata": {},
   "outputs": [
    {
     "data": {
      "text/plain": [
       "FL_DATE            datetime64[ns]\n",
       "AIRLINE_ID                  int64\n",
       "TAIL_NUM                   object\n",
       "FLIGHT_NUM                  int64\n",
       "ORIGIN_AIRPORT             object\n",
       "DEST_AIRPORT               object\n",
       "DEP_TIME                   object\n",
       "DEP_DELAY         timedelta64[ns]\n",
       "ARR_TIME                   object\n",
       "ARR_DELAY         timedelta64[ns]\n",
       "WEATHER_DELAY     timedelta64[ns]\n",
       "day_segment                object\n",
       "airtime                     int64\n",
       "dtype: object"
      ]
     },
     "execution_count": 4,
     "metadata": {},
     "output_type": "execute_result"
    }
   ],
   "source": [
    "data.dtypes"
   ]
  },
  {
   "cell_type": "code",
   "execution_count": 5,
   "metadata": {},
   "outputs": [
    {
     "name": "stdout",
     "output_type": "stream",
     "text": [
      "Number of unique values for each columns are:\n",
      "FL_DATE => 31\n",
      "AIRLINE_ID => 26\n",
      "TAIL_NUM => 5757\n",
      "FLIGHT_NUM => 6954\n",
      "ORIGIN_AIRPORT => 365\n",
      "DEST_AIRPORT => 365\n",
      "DEP_TIME => 1430\n",
      "DEP_DELAY => 1031\n",
      "ARR_TIME => 1440\n",
      "ARR_DELAY => 1074\n",
      "WEATHER_DELAY => 443\n",
      "day_segment => 6\n",
      "airtime => 982\n"
     ]
    }
   ],
   "source": [
    "print(\"Number of unique values for each columns are:\")\n",
    "for i in data.columns:\n",
    "    print(i,\"=>\",data[i].nunique())"
   ]
  },
  {
   "cell_type": "code",
   "execution_count": 6,
   "metadata": {},
   "outputs": [
    {
     "data": {
      "image/png": "[encoded data removed]",
      "text/plain": [
       "<Figure size 640x480 with 1 Axes>"
      ]
     },
     "metadata": {},
     "output_type": "display_data"
    }
   ],
   "source": [
    "sns.histplot(data = data, x = \"FL_DATE\",hue = \"day_segment\", multiple = \"stack\")\n",
    "plt.ylabel(\"Flights\")\n",
    "plt.xlabel(\"Date\")\n",
    "plt.title(\"Flights for each segment of he day\")\n",
    "plt.xticks(rotation =30)\n",
    "plt.show()"
   ]
  },
  {
   "cell_type": "markdown",
   "metadata": {},
   "source": [
    "The Above plot shows that late night and early morning have the least number of flights each day. That is from 00:00 till 08:00."
   ]
  },
  {
   "cell_type": "code",
   "execution_count": 7,
   "metadata": {},
   "outputs": [
    {
     "data": {
      "text/plain": [
       "Text(-12.555555555555555, 0.5, 'Flights')"
      ]
     },
     "execution_count": 7,
     "metadata": {},
     "output_type": "execute_result"
    },
    {
     "data": {
      "image/png": "[encoded data removed]",
      "text/plain": [
       "<Figure size 500x500 with 1 Axes>"
      ]
     },
     "metadata": {},
     "output_type": "display_data"
    }
   ],
   "source": [
    "sns.displot(data[\"airtime\"],kind = \"hist\")\n",
    "plt.ylabel(\"Flights\")"
   ]
  },
  {
   "cell_type": "markdown",
   "metadata": {},
   "source": [
    "Using Djikstra on morning rush flights."
   ]
  },
  {
   "cell_type": "code",
   "execution_count": 6,
   "metadata": {},
   "outputs": [
    {
     "data": {
      "text/html": [
       "<div>\n",
       "<style scoped>\n",
       "    .dataframe tbody tr th:only-of-type {\n",
       "        vertical-align: middle;\n",
       "    }\n",
       "\n",
       "    .dataframe tbody tr th {\n",
       "        vertical-align: top;\n",
       "    }\n",
       "\n",
       "    .dataframe thead th {\n",
       "        text-align: right;\n",
       "    }\n",
       "</style>\n",
       "<table border=\"1\" class=\"dataframe\">\n",
       "  <thead>\n",
       "    <tr style=\"text-align: right;\">\n",
       "      <th></th>\n",
       "      <th>Airport</th>\n",
       "      <th>routes</th>\n",
       "    </tr>\n",
       "  </thead>\n",
       "  <tbody>\n",
       "    <tr>\n",
       "      <th>0</th>\n",
       "      <td>ATL</td>\n",
       "      <td>7869</td>\n",
       "    </tr>\n",
       "    <tr>\n",
       "      <th>1</th>\n",
       "      <td>ORD</td>\n",
       "      <td>7566</td>\n",
       "    </tr>\n",
       "    <tr>\n",
       "      <th>2</th>\n",
       "      <td>DFW</td>\n",
       "      <td>5118</td>\n",
       "    </tr>\n",
       "    <tr>\n",
       "      <th>3</th>\n",
       "      <td>CLT</td>\n",
       "      <td>4636</td>\n",
       "    </tr>\n",
       "    <tr>\n",
       "      <th>4</th>\n",
       "      <td>DTW</td>\n",
       "      <td>3966</td>\n",
       "    </tr>\n",
       "  </tbody>\n",
       "</table>\n",
       "</div>"
      ],
      "text/plain": [
       "  Airport routes\n",
       "0     ATL   7869\n",
       "1     ORD   7566\n",
       "2     DFW   5118\n",
       "3     CLT   4636\n",
       "4     DTW   3966"
      ]
     },
     "execution_count": 6,
     "metadata": {},
     "output_type": "execute_result"
    }
   ],
   "source": [
    "daytime = data[data[\"day_segment\"] == \"Morning\"]\n",
    "\n",
    "busiest_origin = pd.DataFrame(np.unique(daytime[\"ORIGIN_AIRPORT\"],return_counts=True),index = [\"Airport\",\"routes\"]).transpose()\n",
    "busiest_origin = busiest_origin.sort_values(by=\"routes\",ascending = False).reset_index(drop = True)\n",
    "busiest_origin[:5]\n"
   ]
  },
  {
   "cell_type": "markdown",
   "metadata": {},
   "source": [
    "If a flight has a layover in between the origin and destination, its flight number changes but tail number remains the same. Using this we can form a graph with edges and nodes. Flight duration can be used as weight.\n",
    "\n",
    "Scenario 1:\n",
    "\n",
    "Direct Flights\n",
    "\n",
    "Primary Node = ATL airport\n",
    "\n",
    "destination Node = All other airports\n",
    "\n",
    "Weights = (Arrival time + arrival delay + weather delay) -(departure time + departure Delay)"
   ]
  },
  {
   "cell_type": "code",
   "execution_count": 9,
   "metadata": {},
   "outputs": [
    {
     "data": {
      "text/plain": [
       "'ATL'"
      ]
     },
     "execution_count": 9,
     "metadata": {},
     "output_type": "execute_result"
    }
   ],
   "source": [
    "primary = busiest_origin.loc[0,\"Airport\"]\n",
    "primary"
   ]
  },
  {
   "cell_type": "code",
   "execution_count": 10,
   "metadata": {},
   "outputs": [
    {
     "data": {
      "text/html": [
       "<div>\n",
       "<style scoped>\n",
       "    .dataframe tbody tr th:only-of-type {\n",
       "        vertical-align: middle;\n",
       "    }\n",
       "\n",
       "    .dataframe tbody tr th {\n",
       "        vertical-align: top;\n",
       "    }\n",
       "\n",
       "    .dataframe thead th {\n",
       "        text-align: right;\n",
       "    }\n",
       "</style>\n",
       "<table border=\"1\" class=\"dataframe\">\n",
       "  <thead>\n",
       "    <tr style=\"text-align: right;\">\n",
       "      <th></th>\n",
       "      <th>FL_DATE</th>\n",
       "      <th>AIRLINE_ID</th>\n",
       "      <th>TAIL_NUM</th>\n",
       "      <th>FLIGHT_NUM</th>\n",
       "      <th>ORIGIN_AIRPORT</th>\n",
       "      <th>DEST_AIRPORT</th>\n",
       "      <th>DEP_TIME</th>\n",
       "      <th>DEP_DELAY</th>\n",
       "      <th>ARR_TIME</th>\n",
       "      <th>ARR_DELAY</th>\n",
       "      <th>WEATHER_DELAY</th>\n",
       "      <th>day_segment</th>\n",
       "      <th>airtime</th>\n",
       "    </tr>\n",
       "  </thead>\n",
       "  <tbody>\n",
       "    <tr>\n",
       "      <th>0</th>\n",
       "      <td>2018-08-01</td>\n",
       "      <td>19805</td>\n",
       "      <td>N956AN</td>\n",
       "      <td>1587</td>\n",
       "      <td>JFK</td>\n",
       "      <td>PHX</td>\n",
       "      <td>16:49:00</td>\n",
       "      <td>0 days 00:09:00</td>\n",
       "      <td>20:06:00</td>\n",
       "      <td>0 days 00:44:00</td>\n",
       "      <td>0 days 00:00:00</td>\n",
       "      <td>Night</td>\n",
       "      <td>232</td>\n",
       "    </tr>\n",
       "    <tr>\n",
       "      <th>1</th>\n",
       "      <td>2018-08-01</td>\n",
       "      <td>19805</td>\n",
       "      <td>N973AN</td>\n",
       "      <td>1588</td>\n",
       "      <td>PHX</td>\n",
       "      <td>EWR</td>\n",
       "      <td>15:41:00</td>\n",
       "      <td>0 days 00:29:00</td>\n",
       "      <td>23:50:00</td>\n",
       "      <td>0 days 00:53:00</td>\n",
       "      <td>0 days 00:00:00</td>\n",
       "      <td>Night</td>\n",
       "      <td>513</td>\n",
       "    </tr>\n",
       "    <tr>\n",
       "      <th>2</th>\n",
       "      <td>2018-08-01</td>\n",
       "      <td>19805</td>\n",
       "      <td>N9006</td>\n",
       "      <td>1590</td>\n",
       "      <td>CLE</td>\n",
       "      <td>DFW</td>\n",
       "      <td>07:41:00</td>\n",
       "      <td>-1 days +23:57:00</td>\n",
       "      <td>09:38:00</td>\n",
       "      <td>-1 days +23:58:00</td>\n",
       "      <td>0 days 00:04:00</td>\n",
       "      <td>Morning</td>\n",
       "      <td>122</td>\n",
       "    </tr>\n",
       "    <tr>\n",
       "      <th>3</th>\n",
       "      <td>2018-08-01</td>\n",
       "      <td>19805</td>\n",
       "      <td>N870NN</td>\n",
       "      <td>1591</td>\n",
       "      <td>SJU</td>\n",
       "      <td>DFW</td>\n",
       "      <td>09:44:00</td>\n",
       "      <td>0 days 00:44:00</td>\n",
       "      <td>13:47:00</td>\n",
       "      <td>0 days 00:43:00</td>\n",
       "      <td>0 days 00:00:00</td>\n",
       "      <td>Afternoon</td>\n",
       "      <td>242</td>\n",
       "    </tr>\n",
       "    <tr>\n",
       "      <th>4</th>\n",
       "      <td>2018-08-01</td>\n",
       "      <td>19805</td>\n",
       "      <td>N9023N</td>\n",
       "      <td>1593</td>\n",
       "      <td>AUS</td>\n",
       "      <td>MIA</td>\n",
       "      <td>05:56:00</td>\n",
       "      <td>-1 days +23:56:00</td>\n",
       "      <td>09:51:00</td>\n",
       "      <td>-1 days +23:58:00</td>\n",
       "      <td>0 days 00:04:00</td>\n",
       "      <td>Morning</td>\n",
       "      <td>241</td>\n",
       "    </tr>\n",
       "  </tbody>\n",
       "</table>\n",
       "</div>"
      ],
      "text/plain": [
       "     FL_DATE  AIRLINE_ID TAIL_NUM  FLIGHT_NUM ORIGIN_AIRPORT DEST_AIRPORT  \\\n",
       "0 2018-08-01       19805   N956AN        1587            JFK          PHX   \n",
       "1 2018-08-01       19805   N973AN        1588            PHX          EWR   \n",
       "2 2018-08-01       19805    N9006        1590            CLE          DFW   \n",
       "3 2018-08-01       19805   N870NN        1591            SJU          DFW   \n",
       "4 2018-08-01       19805   N9023N        1593            AUS          MIA   \n",
       "\n",
       "   DEP_TIME         DEP_DELAY  ARR_TIME         ARR_DELAY   WEATHER_DELAY  \\\n",
       "0  16:49:00   0 days 00:09:00  20:06:00   0 days 00:44:00 0 days 00:00:00   \n",
       "1  15:41:00   0 days 00:29:00  23:50:00   0 days 00:53:00 0 days 00:00:00   \n",
       "2  07:41:00 -1 days +23:57:00  09:38:00 -1 days +23:58:00 0 days 00:04:00   \n",
       "3  09:44:00   0 days 00:44:00  13:47:00   0 days 00:43:00 0 days 00:00:00   \n",
       "4  05:56:00 -1 days +23:56:00  09:51:00 -1 days +23:58:00 0 days 00:04:00   \n",
       "\n",
       "  day_segment  airtime  \n",
       "0       Night      232  \n",
       "1       Night      513  \n",
       "2     Morning      122  \n",
       "3   Afternoon      242  \n",
       "4     Morning      241  "
      ]
     },
     "execution_count": 10,
     "metadata": {},
     "output_type": "execute_result"
    }
   ],
   "source": [
    "data.head()"
   ]
  },
  {
   "cell_type": "code",
   "execution_count": 7,
   "metadata": {},
   "outputs": [
    {
     "data": {
      "text/html": [
       "<div>\n",
       "<style scoped>\n",
       "    .dataframe tbody tr th:only-of-type {\n",
       "        vertical-align: middle;\n",
       "    }\n",
       "\n",
       "    .dataframe tbody tr th {\n",
       "        vertical-align: top;\n",
       "    }\n",
       "\n",
       "    .dataframe thead th {\n",
       "        text-align: right;\n",
       "    }\n",
       "</style>\n",
       "<table border=\"1\" class=\"dataframe\">\n",
       "  <thead>\n",
       "    <tr style=\"text-align: right;\">\n",
       "      <th></th>\n",
       "      <th>ORIGIN_AIRPORT</th>\n",
       "      <th>DEST_AIRPORT</th>\n",
       "      <th>airtime</th>\n",
       "    </tr>\n",
       "  </thead>\n",
       "  <tbody>\n",
       "    <tr>\n",
       "      <th>0</th>\n",
       "      <td>ABE</td>\n",
       "      <td>ATL</td>\n",
       "      <td>119.269231</td>\n",
       "    </tr>\n",
       "    <tr>\n",
       "      <th>1</th>\n",
       "      <td>ABE</td>\n",
       "      <td>CLT</td>\n",
       "      <td>112.565217</td>\n",
       "    </tr>\n",
       "    <tr>\n",
       "      <th>2</th>\n",
       "      <td>ABE</td>\n",
       "      <td>DTW</td>\n",
       "      <td>79.000000</td>\n",
       "    </tr>\n",
       "    <tr>\n",
       "      <th>3</th>\n",
       "      <td>ABE</td>\n",
       "      <td>ORD</td>\n",
       "      <td>44.000000</td>\n",
       "    </tr>\n",
       "    <tr>\n",
       "      <th>4</th>\n",
       "      <td>ABE</td>\n",
       "      <td>PHL</td>\n",
       "      <td>37.150000</td>\n",
       "    </tr>\n",
       "  </tbody>\n",
       "</table>\n",
       "</div>"
      ],
      "text/plain": [
       "  ORIGIN_AIRPORT DEST_AIRPORT     airtime\n",
       "0            ABE          ATL  119.269231\n",
       "1            ABE          CLT  112.565217\n",
       "2            ABE          DTW   79.000000\n",
       "3            ABE          ORD   44.000000\n",
       "4            ABE          PHL   37.150000"
      ]
     },
     "execution_count": 7,
     "metadata": {},
     "output_type": "execute_result"
    }
   ],
   "source": [
    "#Finding Unique routes in the dataset\n",
    "\n",
    "## Grouping frequency can be done for as small as first hour of the day or 2nd hour of the day to improve accuracy\n",
    "\n",
    "unique_routes_df = daytime.groupby([\"ORIGIN_AIRPORT\", \"DEST_AIRPORT\"])[\"airtime\"].mean().reset_index()\n",
    "unique_routes_df.head()"
   ]
  },
  {
   "cell_type": "code",
   "execution_count": 14,
   "metadata": {},
   "outputs": [
    {
     "data": {
      "text/plain": [
       "4237"
      ]
     },
     "execution_count": 14,
     "metadata": {},
     "output_type": "execute_result"
    }
   ],
   "source": [
    "unique_routes = set((row[\"ORIGIN_AIRPORT\"],row[\"DEST_AIRPORT\"],row[\"airtime\"]) for _,row in unique_routes_df.iterrows())\n",
    "len(unique_routes)"
   ]
  },
  {
   "cell_type": "code",
   "execution_count": 15,
   "metadata": {},
   "outputs": [
    {
     "data": {
      "text/html": [
       "<div>\n",
       "<style scoped>\n",
       "    .dataframe tbody tr th:only-of-type {\n",
       "        vertical-align: middle;\n",
       "    }\n",
       "\n",
       "    .dataframe tbody tr th {\n",
       "        vertical-align: top;\n",
       "    }\n",
       "\n",
       "    .dataframe thead th {\n",
       "        text-align: right;\n",
       "    }\n",
       "</style>\n",
       "<table border=\"1\" class=\"dataframe\">\n",
       "  <thead>\n",
       "    <tr style=\"text-align: right;\">\n",
       "      <th></th>\n",
       "      <th>AIRPORT</th>\n",
       "      <th>DISPLAY_AIRPORT_NAME</th>\n",
       "      <th>AIRPORT_STATE_FIPS</th>\n",
       "      <th>CITY_MARKET_SEQ_ID</th>\n",
       "      <th>CITY_MARKET_ID</th>\n",
       "      <th>DISPLAY_CITY_MARKET_NAME_FULL</th>\n",
       "      <th>CITY_MARKET_WAC_SEQ_ID2</th>\n",
       "      <th>CITY_MARKET_WAC</th>\n",
       "      <th>LATITUDE</th>\n",
       "      <th>LONGITUDE</th>\n",
       "    </tr>\n",
       "  </thead>\n",
       "  <tbody>\n",
       "    <tr>\n",
       "      <th>0</th>\n",
       "      <td>01A</td>\n",
       "      <td>Afognak Lake Airport</td>\n",
       "      <td>2.0</td>\n",
       "      <td>3000101</td>\n",
       "      <td>30001</td>\n",
       "      <td>Afognak Lake, AK</td>\n",
       "      <td>101</td>\n",
       "      <td>1</td>\n",
       "      <td>58.109444</td>\n",
       "      <td>-152.906667</td>\n",
       "    </tr>\n",
       "    <tr>\n",
       "      <th>1</th>\n",
       "      <td>03A</td>\n",
       "      <td>Bear Creek Mining Strip</td>\n",
       "      <td>2.0</td>\n",
       "      <td>3000301</td>\n",
       "      <td>30003</td>\n",
       "      <td>Granite Mountain, AK</td>\n",
       "      <td>101</td>\n",
       "      <td>1</td>\n",
       "      <td>65.548056</td>\n",
       "      <td>-161.071667</td>\n",
       "    </tr>\n",
       "    <tr>\n",
       "      <th>2</th>\n",
       "      <td>04A</td>\n",
       "      <td>Lik Mining Camp</td>\n",
       "      <td>2.0</td>\n",
       "      <td>3000401</td>\n",
       "      <td>30004</td>\n",
       "      <td>Lik, AK</td>\n",
       "      <td>101</td>\n",
       "      <td>1</td>\n",
       "      <td>68.083333</td>\n",
       "      <td>-163.166667</td>\n",
       "    </tr>\n",
       "    <tr>\n",
       "      <th>3</th>\n",
       "      <td>05A</td>\n",
       "      <td>Little Squaw Airport</td>\n",
       "      <td>2.0</td>\n",
       "      <td>3000501</td>\n",
       "      <td>30005</td>\n",
       "      <td>Little Squaw, AK</td>\n",
       "      <td>101</td>\n",
       "      <td>1</td>\n",
       "      <td>67.570000</td>\n",
       "      <td>-148.183889</td>\n",
       "    </tr>\n",
       "    <tr>\n",
       "      <th>4</th>\n",
       "      <td>06A</td>\n",
       "      <td>Kizhuyak Bay</td>\n",
       "      <td>2.0</td>\n",
       "      <td>3000601</td>\n",
       "      <td>30006</td>\n",
       "      <td>Kizhuyak, AK</td>\n",
       "      <td>101</td>\n",
       "      <td>1</td>\n",
       "      <td>57.745278</td>\n",
       "      <td>-152.882778</td>\n",
       "    </tr>\n",
       "  </tbody>\n",
       "</table>\n",
       "</div>"
      ],
      "text/plain": [
       "  AIRPORT     DISPLAY_AIRPORT_NAME  AIRPORT_STATE_FIPS  CITY_MARKET_SEQ_ID  \\\n",
       "0     01A     Afognak Lake Airport                 2.0             3000101   \n",
       "1     03A  Bear Creek Mining Strip                 2.0             3000301   \n",
       "2     04A          Lik Mining Camp                 2.0             3000401   \n",
       "3     05A     Little Squaw Airport                 2.0             3000501   \n",
       "4     06A             Kizhuyak Bay                 2.0             3000601   \n",
       "\n",
       "   CITY_MARKET_ID DISPLAY_CITY_MARKET_NAME_FULL  CITY_MARKET_WAC_SEQ_ID2  \\\n",
       "0           30001              Afognak Lake, AK                      101   \n",
       "1           30003          Granite Mountain, AK                      101   \n",
       "2           30004                       Lik, AK                      101   \n",
       "3           30005              Little Squaw, AK                      101   \n",
       "4           30006                  Kizhuyak, AK                      101   \n",
       "\n",
       "   CITY_MARKET_WAC   LATITUDE   LONGITUDE  \n",
       "0                1  58.109444 -152.906667  \n",
       "1                1  65.548056 -161.071667  \n",
       "2                1  68.083333 -163.166667  \n",
       "3                1  67.570000 -148.183889  \n",
       "4                1  57.745278 -152.882778  "
      ]
     },
     "execution_count": 15,
     "metadata": {},
     "output_type": "execute_result"
    }
   ],
   "source": [
    "coords = pd.read_csv(\"T_MASTER_CORD.csv\")\n",
    "coords.head()"
   ]
  },
  {
   "cell_type": "code",
   "execution_count": 16,
   "metadata": {},
   "outputs": [
    {
     "name": "stdout",
     "output_type": "stream",
     "text": [
      "[]\n"
     ]
    }
   ],
   "source": [
    "#Checking for any missing airports in airport coordinate data\n",
    "\n",
    "new_airports = []\n",
    "for i in data[\"ORIGIN_AIRPORT\"].unique():\n",
    "    if i not in list(coords[\"AIRPORT\"]):\n",
    "        new_airports.append(i)\n",
    "print(new_airports)"
   ]
  },
  {
   "cell_type": "code",
   "execution_count": 17,
   "metadata": {},
   "outputs": [
    {
     "data": {
      "text/html": [
       "<div>\n",
       "<style scoped>\n",
       "    .dataframe tbody tr th:only-of-type {\n",
       "        vertical-align: middle;\n",
       "    }\n",
       "\n",
       "    .dataframe tbody tr th {\n",
       "        vertical-align: top;\n",
       "    }\n",
       "\n",
       "    .dataframe thead th {\n",
       "        text-align: right;\n",
       "    }\n",
       "</style>\n",
       "<table border=\"1\" class=\"dataframe\">\n",
       "  <thead>\n",
       "    <tr style=\"text-align: right;\">\n",
       "      <th></th>\n",
       "      <th>FL_DATE</th>\n",
       "      <th>AIRLINE_ID</th>\n",
       "      <th>TAIL_NUM</th>\n",
       "      <th>FLIGHT_NUM</th>\n",
       "      <th>ORIGIN_AIRPORT</th>\n",
       "      <th>DEST_AIRPORT</th>\n",
       "      <th>DEP_TIME</th>\n",
       "      <th>DEP_DELAY</th>\n",
       "      <th>ARR_TIME</th>\n",
       "      <th>ARR_DELAY</th>\n",
       "      <th>WEATHER_DELAY</th>\n",
       "      <th>day_segment</th>\n",
       "      <th>airtime</th>\n",
       "    </tr>\n",
       "  </thead>\n",
       "  <tbody>\n",
       "    <tr>\n",
       "      <th>0</th>\n",
       "      <td>2018-08-01</td>\n",
       "      <td>19805</td>\n",
       "      <td>N956AN</td>\n",
       "      <td>1587</td>\n",
       "      <td>JFK</td>\n",
       "      <td>PHX</td>\n",
       "      <td>16:49:00</td>\n",
       "      <td>0 days 00:09:00</td>\n",
       "      <td>20:06:00</td>\n",
       "      <td>0 days 00:44:00</td>\n",
       "      <td>0 days 00:00:00</td>\n",
       "      <td>Night</td>\n",
       "      <td>232</td>\n",
       "    </tr>\n",
       "    <tr>\n",
       "      <th>1</th>\n",
       "      <td>2018-08-01</td>\n",
       "      <td>19805</td>\n",
       "      <td>N973AN</td>\n",
       "      <td>1588</td>\n",
       "      <td>PHX</td>\n",
       "      <td>EWR</td>\n",
       "      <td>15:41:00</td>\n",
       "      <td>0 days 00:29:00</td>\n",
       "      <td>23:50:00</td>\n",
       "      <td>0 days 00:53:00</td>\n",
       "      <td>0 days 00:00:00</td>\n",
       "      <td>Night</td>\n",
       "      <td>513</td>\n",
       "    </tr>\n",
       "    <tr>\n",
       "      <th>2</th>\n",
       "      <td>2018-08-01</td>\n",
       "      <td>19805</td>\n",
       "      <td>N9006</td>\n",
       "      <td>1590</td>\n",
       "      <td>CLE</td>\n",
       "      <td>DFW</td>\n",
       "      <td>07:41:00</td>\n",
       "      <td>-1 days +23:57:00</td>\n",
       "      <td>09:38:00</td>\n",
       "      <td>-1 days +23:58:00</td>\n",
       "      <td>0 days 00:04:00</td>\n",
       "      <td>Morning</td>\n",
       "      <td>122</td>\n",
       "    </tr>\n",
       "    <tr>\n",
       "      <th>3</th>\n",
       "      <td>2018-08-01</td>\n",
       "      <td>19805</td>\n",
       "      <td>N870NN</td>\n",
       "      <td>1591</td>\n",
       "      <td>SJU</td>\n",
       "      <td>DFW</td>\n",
       "      <td>09:44:00</td>\n",
       "      <td>0 days 00:44:00</td>\n",
       "      <td>13:47:00</td>\n",
       "      <td>0 days 00:43:00</td>\n",
       "      <td>0 days 00:00:00</td>\n",
       "      <td>Afternoon</td>\n",
       "      <td>242</td>\n",
       "    </tr>\n",
       "    <tr>\n",
       "      <th>4</th>\n",
       "      <td>2018-08-01</td>\n",
       "      <td>19805</td>\n",
       "      <td>N9023N</td>\n",
       "      <td>1593</td>\n",
       "      <td>AUS</td>\n",
       "      <td>MIA</td>\n",
       "      <td>05:56:00</td>\n",
       "      <td>-1 days +23:56:00</td>\n",
       "      <td>09:51:00</td>\n",
       "      <td>-1 days +23:58:00</td>\n",
       "      <td>0 days 00:04:00</td>\n",
       "      <td>Morning</td>\n",
       "      <td>241</td>\n",
       "    </tr>\n",
       "  </tbody>\n",
       "</table>\n",
       "</div>"
      ],
      "text/plain": [
       "     FL_DATE  AIRLINE_ID TAIL_NUM  FLIGHT_NUM ORIGIN_AIRPORT DEST_AIRPORT  \\\n",
       "0 2018-08-01       19805   N956AN        1587            JFK          PHX   \n",
       "1 2018-08-01       19805   N973AN        1588            PHX          EWR   \n",
       "2 2018-08-01       19805    N9006        1590            CLE          DFW   \n",
       "3 2018-08-01       19805   N870NN        1591            SJU          DFW   \n",
       "4 2018-08-01       19805   N9023N        1593            AUS          MIA   \n",
       "\n",
       "   DEP_TIME         DEP_DELAY  ARR_TIME         ARR_DELAY   WEATHER_DELAY  \\\n",
       "0  16:49:00   0 days 00:09:00  20:06:00   0 days 00:44:00 0 days 00:00:00   \n",
       "1  15:41:00   0 days 00:29:00  23:50:00   0 days 00:53:00 0 days 00:00:00   \n",
       "2  07:41:00 -1 days +23:57:00  09:38:00 -1 days +23:58:00 0 days 00:04:00   \n",
       "3  09:44:00   0 days 00:44:00  13:47:00   0 days 00:43:00 0 days 00:00:00   \n",
       "4  05:56:00 -1 days +23:56:00  09:51:00 -1 days +23:58:00 0 days 00:04:00   \n",
       "\n",
       "  day_segment  airtime  \n",
       "0       Night      232  \n",
       "1       Night      513  \n",
       "2     Morning      122  \n",
       "3   Afternoon      242  \n",
       "4     Morning      241  "
      ]
     },
     "execution_count": 17,
     "metadata": {},
     "output_type": "execute_result"
    }
   ],
   "source": [
    "data.head()"
   ]
  },
  {
   "cell_type": "code",
   "execution_count": 18,
   "metadata": {},
   "outputs": [],
   "source": [
    "#Position dictionary with location of each airport\n",
    "\n",
    "data_coords = coords.loc[coords[\"AIRPORT\"].isin(list(data[\"ORIGIN_AIRPORT\"].unique())),[\"AIRPORT\",\"LATITUDE\",\"LONGITUDE\"]]\n",
    "data_coords.drop_duplicates(subset = [\"AIRPORT\"],inplace = True, ignore_index = True)\n",
    "positions = {row[\"AIRPORT\"] : (row[\"LATITUDE\"],-row[\"LONGITUDE\"]) for _,row in data_coords.iterrows()}"
   ]
  },
  {
   "cell_type": "code",
   "execution_count": 19,
   "metadata": {},
   "outputs": [
    {
     "name": "stdout",
     "output_type": "stream",
     "text": [
      "8474\n",
      "The number of airports present in the current segment of day is:  344\n"
     ]
    }
   ],
   "source": [
    "# Airports present in routes of selected segment of the day\n",
    "graph_nodes = []\n",
    "for a,b,_ in unique_routes:\n",
    "    graph_nodes.extend([a,b])\n",
    "print(len(graph_nodes))\n",
    "graph_nodes = list(set(graph_nodes))\n",
    "print(\"The number of airports present in the current segment of day is: \",len(graph_nodes))"
   ]
  },
  {
   "cell_type": "code",
   "execution_count": 20,
   "metadata": {},
   "outputs": [
    {
     "data": {
      "text/plain": [
       "['FLO', 'PDX', 'GGG', 'BLI', 'AVP']"
      ]
     },
     "execution_count": 20,
     "metadata": {},
     "output_type": "execute_result"
    }
   ],
   "source": [
    "graph_nodes[:5]"
   ]
  },
  {
   "cell_type": "code",
   "execution_count": 21,
   "metadata": {},
   "outputs": [
    {
     "name": "stdout",
     "output_type": "stream",
     "text": [
      "Air Traffic routes at Morning of the day\n"
     ]
    },
    {
     "data": {
      "image/png": "[encoded data removed]",
      "text/plain": [
       "<Figure size 1000x500 with 1 Axes>"
      ]
     },
     "metadata": {},
     "output_type": "display_data"
    }
   ],
   "source": [
    "plt.figure(figsize=(10,5))\n",
    "seed = 12\n",
    "\n",
    "random.seed(seed) # To reproduce the same graph at every run, using random function here.\n",
    "np.random.seed(seed) # NetworkX  utilizes both numpy and random package input to form a graph.\n",
    "\n",
    "airports = nx.DiGraph() # Directed graph\n",
    "\n",
    "airports.add_nodes_from(graph_nodes)\n",
    "\n",
    "airports.add_weighted_edges_from(unique_routes)\n",
    "print(\"Air Traffic routes at {} of the day\".format(*daytime[\"day_segment\"].unique()))\n",
    "nx.draw(airports,pos = positions,with_labels = True, font_size = 7, font_weight =\"bold\", font_family = \"Times New Roman\",alpha = 0.7, width = 0.3)\n",
    "plt.margins(0.1)\n",
    "plt.show()"
   ]
  },
  {
   "cell_type": "markdown",
   "metadata": {},
   "source": [
    "Implementation for undirected graph"
   ]
  },
  {
   "cell_type": "code",
   "execution_count": 22,
   "metadata": {},
   "outputs": [],
   "source": [
    "class Dijikstra():\n",
    "    def __init__(self,graph:dict = {}):\n",
    "        self.graph = graph\n",
    "     \n",
    "    def shortest_duration(self, start: str, end: str):\n",
    "        duration = {node : float(\"inf\") for node in self.graph} # Duration dictionary keeps record of all distances from start\n",
    "        duration[start] = 0\n",
    "    \n",
    "        queue = [(0,start)] #Priority queue helps maintain the order of shortest time\n",
    "        heapify(queue)\n",
    "\n",
    "        visited = set() #airport is added to this set after all its neighbors are explored.\n",
    "\n",
    "        previous_node = {node : None for node in self.graph} #Helps in charting the shortest path\n",
    "\n",
    "        while queue:\n",
    "            current_duration,current_node = heappop(queue)\n",
    "\n",
    "            if current_node in visited:\n",
    "                continue\n",
    "            visited.add(current_node) \n",
    "\n",
    "            for neighbor,travel_time in self.graph[current_node].items():\n",
    "                new_duration = current_duration + travel_time[\"weight\"]\n",
    "                if new_duration < duration[neighbor]:\n",
    "                    duration[neighbor] = new_duration\n",
    "                    previous_node[neighbor] = current_node\n",
    "                    heappush(queue,(new_duration,neighbor))\n",
    "\n",
    "        #Path reconstruction\n",
    "        shortest_path = []\n",
    "        temp_node = end\n",
    "        while temp_node is not None:\n",
    "            shortest_path.append(temp_node)\n",
    "            temp_node = previous_node[temp_node]\n",
    "        shortest_path.reverse()\n",
    "        return duration, shortest_path"
   ]
  },
  {
   "cell_type": "code",
   "execution_count": 23,
   "metadata": {},
   "outputs": [],
   "source": [
    "find_shortest = Dijikstra(airports)"
   ]
  },
  {
   "cell_type": "markdown",
   "metadata": {},
   "source": [
    "Function to get the shortest time path between them."
   ]
  },
  {
   "cell_type": "code",
   "execution_count": 24,
   "metadata": {},
   "outputs": [
    {
     "name": "stdout",
     "output_type": "stream",
     "text": [
      "Shortest time from ATL to YAK during morning is 319.46 min.\n",
      "The Shortest path from ATL to YAK airport is =>\n",
      " ['JFK', 'PHX']\n"
     ]
    }
   ],
   "source": [
    "time, path = find_shortest.shortest_duration(\"JFK\",\"PHX\")\n",
    "# print(\"shortest time in minutes to all airports from ATL is\\n\", time)\n",
    "print(\"Shortest time from ATL to YAK during morning is {:.2f} min.\".format(time[\"YAK\"]))\n",
    "print(\"The Shortest path from ATL to YAK airport is =>\\n\",path)"
   ]
  },
  {
   "cell_type": "code",
   "execution_count": null,
   "metadata": {},
   "outputs": [],
   "source": []
  },
  {
   "cell_type": "code",
   "execution_count": null,
   "metadata": {},
   "outputs": [],
   "source": []
  },
  {
   "cell_type": "code",
   "execution_count": 30,
   "metadata": {},
   "outputs": [
    {
     "name": "stdout",
     "output_type": "stream",
     "text": [
      "Shortest route from ATL to YAK at Morning of the day\n",
      "The route has a duration of 283.79 min.\n"
     ]
    },
    {
     "data": {
      "image/png": "[encoded data removed]",
      "text/plain": [
       "<Figure size 1000x500 with 1 Axes>"
      ]
     },
     "metadata": {},
     "output_type": "display_data"
    }
   ],
   "source": [
    "plt.figure(figsize=(10,5))\n",
    "seed = 12\n",
    "\n",
    "random.seed(seed) # To reproduce the same graph at every run, using random function here.\n",
    "np.random.seed(seed) # NetworkX  utilizes both numpy and random package input to form a graph.\n",
    "\n",
    "airports = nx.DiGraph() # Directed graph\n",
    "airports.graph[\"Name\"] = \"Shortest route\"\n",
    "\n",
    "airports.add_nodes_from(graph_nodes)\n",
    "\n",
    "colormap = []\n",
    "node_sizes = []\n",
    "visibility = {}\n",
    "alphamap = []\n",
    "\n",
    "for cnode in airports:\n",
    "    if cnode in path:\n",
    "        colormap.append('red')\n",
    "        node_sizes.append(200)\n",
    "        alphamap.append(0.8)\n",
    "        visibility[cnode] = True\n",
    "    else:\n",
    "        colormap.append('lightgrey')\n",
    "        visibility[cnode] = False\n",
    "        node_sizes.append(100)\n",
    "        alphamap.append(0.2)\n",
    "\n",
    "airports.add_weighted_edges_from(unique_routes)\n",
    "print(\"Shortest route from {} to {} at {} of the day\".format(path[0],path[-1],*daytime[\"day_segment\"].unique()))\n",
    "print(\"The route has a duration of {:.2f} min.\".format(time[\"YAK\"]))\n",
    "nx.draw_networkx_nodes(airports, pos = positions, node_color = colormap,node_size = node_sizes,alpha = alphamap)\n",
    "nx.draw_networkx_edges(airports, pos = positions, alpha = 0.9,edgelist = list(zip(path,path[1:])))\n",
    "\n",
    "for nod in graph_nodes:\n",
    "    x,y = positions[nod]\n",
    "    isvisible = visibility[nod]\n",
    "    plt.text(x,y,nod,visible = isvisible ,fontsize = 6,fontfamily = \"Times New Roman\",fontweight = \"bold\",ha = \"center\")\n",
    "\n",
    "plt.margins(0.1)\n",
    "plt.show()"
   ]
  },
  {
   "cell_type": "code",
   "execution_count": null,
   "metadata": {},
   "outputs": [],
   "source": []
  }
 ],
 "metadata": {
  "interpreter": {
   "hash": "8cb552afed05b58180a47c90593f7f9d4a16d7880ff5c86ba351d7da0963a86f"
  },
  "kernelspec": {
   "display_name": "Python 3.9.0 64-bit ('opt_venv': venv)",
   "language": "python",
   "name": "python3"
  },
  "language_info": {
   "codemirror_mode": {
    "name": "ipython",
    "version": 3
   },
   "file_extension": ".py",
   "mimetype": "text/x-python",
   "name": "python",
   "nbconvert_exporter": "python",
   "pygments_lexer": "ipython3",
   "version": "3.9.0"
  },
  "orig_nbformat": 4
 },
 "nbformat": 4,
 "nbformat_minor": 2
}
